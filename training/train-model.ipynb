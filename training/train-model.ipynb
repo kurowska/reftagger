{
 "metadata": {
  "name": "",
  "signature": "sha256:3c525b0cdc73cd1e4893125c18a68b9ef59df91f315c990ff1aa411614c2a744"
 },
 "nbformat": 3,
 "nbformat_minor": 0,
 "worksheets": [
  {
   "cells": [
    {
     "cell_type": "code",
     "collapsed": false,
     "input": [
      "import numpy as np\n",
      "import pycrfsuite"
     ],
     "language": "python",
     "metadata": {},
     "outputs": []
    },
    {
     "cell_type": "code",
     "collapsed": false,
     "input": [
      "data = np.load('../features.pkl')\n",
      "print(len(data['X']))\n",
      "print(len(data['y']))"
     ],
     "language": "python",
     "metadata": {},
     "outputs": []
    },
    {
     "cell_type": "code",
     "collapsed": false,
     "input": [
      "random = np.random.RandomState(0)\n",
      "indices = random.permutation(len(data['X']))\n",
      "train_indices = indices[:len(indices)//2]\n",
      "test_indices = indices[len(indices)//2:]\n",
      "\n",
      "X_train = [data['X'][i] for i in train_indices]\n",
      "y_train = [data['y'][i] for i in train_indices]\n",
      "\n",
      "X_test = [data['X'][i] for i in test_indices]\n",
      "y_test = [data['y'][i] for i in test_indices]"
     ],
     "language": "python",
     "metadata": {},
     "outputs": []
    },
    {
     "cell_type": "code",
     "collapsed": false,
     "input": [
      "[[e.split('=')[1] for e in wordf if e.split('=')[0] in ('word', 'known_journal')] for wordf in X_train[2]]\n",
      "#[type(e) for e in X_train[0]]\n",
      "#[dict(list((f.split('=') for f in e))) for e in X_train[0]]"
     ],
     "language": "python",
     "metadata": {},
     "outputs": []
    },
    {
     "cell_type": "code",
     "collapsed": false,
     "input": [
      "trainer = pycrfsuite.Trainer()\n",
      "\n",
      "for x, y in zip(X_train, y_train):\n",
      "    trainer.append(x, y)\n",
      "\n",
      "trainer.set_params({\n",
      "    'c1': 0.1,   # coefficient for L1 penalty\n",
      "    'c2': 1,  # coefficient for L2 penalty\n",
      "    'max_iterations': 100,  # stop earlier\n",
      "})\n",
      "trainer.train('scratch.crfsuite')"
     ],
     "language": "python",
     "metadata": {},
     "outputs": []
    },
    {
     "cell_type": "code",
     "collapsed": false,
     "input": [
      "tagger = pycrfsuite.Tagger()\n",
      "tagger.open('scratch.crfsuite')"
     ],
     "language": "python",
     "metadata": {},
     "outputs": []
    },
    {
     "cell_type": "code",
     "collapsed": false,
     "input": [
      "def score(X, y, tagger):\n",
      "    total_entities = 0\n",
      "    total_correct = 0 \n",
      "    for i, (xx, yy) in enumerate(zip(X, y)):\n",
      "        predicted = tagger.tag(xx)\n",
      "        total_entities += len(xx)\n",
      "        total_correct += sum(pred == true for pred, true in zip(predicted, yy))\n",
      "\n",
      "    print(total_entities, total_correct, total_correct/total_entities)\n",
      "    \n",
      "score(X_train, y_train, tagger)\n",
      "score(X_test, y_test, tagger)"
     ],
     "language": "python",
     "metadata": {},
     "outputs": []
    },
    {
     "cell_type": "code",
     "collapsed": false,
     "input": [
      "from pprint import pprint\n",
      "\n",
      "def errors(X, y, tagger):\n",
      "    n_errored = 0\n",
      "    for i, (xx, yy) in enumerate(zip(X, y)):\n",
      "        predicted = tagger.tag(xx)\n",
      "        if sum((a!=b) for a, b in zip(predicted, yy)) > 0:\n",
      "            phrase = [next(f.split('=')[1] for f in word if f.split('=')[0]=='word') for word in xx]\n",
      "            pprint(list(zip(yy, predicted, ((a==b) for a,b in zip(predicted, yy)), phrase)))\n",
      "            n_errored += 1\n",
      "            print()\n",
      "        if n_errored > 5:\n",
      "            break\n",
      "\n",
      "errors(X_train, y_train, tagger)"
     ],
     "language": "python",
     "metadata": {},
     "outputs": []
    },
    {
     "cell_type": "code",
     "collapsed": false,
     "input": [
      "print(list(zip(y_test[0], tagger.tag(X_test[0]))))"
     ],
     "language": "python",
     "metadata": {},
     "outputs": []
    },
    {
     "cell_type": "code",
     "collapsed": false,
     "input": [
      "# print('|'.join([e[0].split('=')[1] for e in X_test[4]]))\n",
      "# tagger.tag(X_test[4])"
     ],
     "language": "python",
     "metadata": {},
     "outputs": []
    },
    {
     "cell_type": "code",
     "collapsed": false,
     "input": [
      "info = tagger.info()"
     ],
     "language": "python",
     "metadata": {},
     "outputs": []
    },
    {
     "cell_type": "code",
     "collapsed": false,
     "input": [
      "from collections import Counter\n",
      "Counter(info.state_features).most_common(10)"
     ],
     "language": "python",
     "metadata": {},
     "outputs": []
    },
    {
     "cell_type": "code",
     "collapsed": false,
     "input": [
      "trainer = pycrfsuite.Trainer()\n",
      "for x, y in zip(data['X'], data['y']):\n",
      "    trainer.append(x, y)\n",
      "\n",
      "trainer.set_params({\n",
      "    'c1': 0.1,   # coefficient for L1 penalty\n",
      "    'c2': 1,  # coefficient for L2 penalty\n",
      "    'max_iterations': 500,  # stop earlier\n",
      "})\n",
      "trainer.train('model.crfsuite')"
     ],
     "language": "python",
     "metadata": {},
     "outputs": []
    },
    {
     "cell_type": "code",
     "collapsed": false,
     "input": [],
     "language": "python",
     "metadata": {},
     "outputs": []
    }
   ],
   "metadata": {}
  }
 ]
}