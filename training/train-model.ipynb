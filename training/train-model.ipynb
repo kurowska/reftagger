{
 "metadata": {
  "name": "",
  "signature": "sha256:2aec225d94d3da37c74a6ed5cf4dfc6ec35bd2e4f142794e777649f69f519116"
 },
 "nbformat": 3,
 "nbformat_minor": 0,
 "worksheets": [
  {
   "cells": [
    {
     "cell_type": "code",
     "collapsed": false,
     "input": [
      "import numpy as np\n",
      "import pycrfsuite"
     ],
     "language": "python",
     "metadata": {},
     "outputs": []
    },
    {
     "cell_type": "code",
     "collapsed": false,
     "input": [
      "data = np.load('features.pkl')\n",
      "print(len(data['X']))\n",
      "print(len(data['y']))"
     ],
     "language": "python",
     "metadata": {},
     "outputs": []
    },
    {
     "cell_type": "code",
     "collapsed": false,
     "input": [
      "random = np.random.RandomState(0)\n",
      "indices = random.permutation(len(data['X']))\n",
      "train_indices = indices[:len(indices)//2]\n",
      "test_indices = indices[len(indices)//2:]\n",
      "\n",
      "X_train = [data['X'][i] for i in train_indices]\n",
      "y_train = [data['y'][i] for i in train_indices]\n",
      "\n",
      "X_test = [data['X'][i] for i in test_indices]\n",
      "y_test = [data['y'][i] for i in test_indices]"
     ],
     "language": "python",
     "metadata": {},
     "outputs": []
    },
    {
     "cell_type": "code",
     "collapsed": false,
     "input": [
      "X_train[0]"
     ],
     "language": "python",
     "metadata": {},
     "outputs": []
    },
    {
     "cell_type": "code",
     "collapsed": false,
     "input": [
      "trainer = pycrfsuite.Trainer()\n",
      "\n",
      "for x, y in zip(X_train, y_train):\n",
      "    trainer.append(x, y)\n",
      "\n",
      "trainer.set_params({\n",
      "    'c1': 0.1,   # coefficient for L1 penalty\n",
      "    'c2': 1,  # coefficient for L2 penalty\n",
      "    'max_iterations': 100,  # stop earlier\n",
      "})\n",
      "trainer.train('scratch.crfsuite')"
     ],
     "language": "python",
     "metadata": {},
     "outputs": []
    },
    {
     "cell_type": "code",
     "collapsed": false,
     "input": [
      "tagger = pycrfsuite.Tagger()\n",
      "tagger.open('scratch.crfsuite')"
     ],
     "language": "python",
     "metadata": {},
     "outputs": []
    },
    {
     "cell_type": "code",
     "collapsed": false,
     "input": [
      "def score(X, y, tagger):\n",
      "    total_entities = 0\n",
      "    total_correct = 0 \n",
      "    for i, (xx, yy) in enumerate(zip(X, y)):\n",
      "        predicted = tagger.tag(xx)\n",
      "        total_entities += len(xx)\n",
      "        total_correct += sum(pred == true for pred, true in zip(predicted, yy))\n",
      "\n",
      "    print(total_entities, total_correct, total_correct/total_entities)\n",
      "    \n",
      "score(X_train, y_train, tagger)\n",
      "score(X_test, y_test, tagger)"
     ],
     "language": "python",
     "metadata": {},
     "outputs": []
    },
    {
     "cell_type": "code",
     "collapsed": false,
     "input": [
      "print(list(zip(y_test[0], tagger.tag(X_test[0]))))"
     ],
     "language": "python",
     "metadata": {},
     "outputs": []
    },
    {
     "cell_type": "code",
     "collapsed": false,
     "input": [
      "# print('|'.join([e[0].split('=')[1] for e in X_test[4]]))\n",
      "# tagger.tag(X_test[4])"
     ],
     "language": "python",
     "metadata": {},
     "outputs": []
    },
    {
     "cell_type": "code",
     "collapsed": false,
     "input": [
      "info = tagger.info()"
     ],
     "language": "python",
     "metadata": {},
     "outputs": []
    },
    {
     "cell_type": "code",
     "collapsed": false,
     "input": [
      "from collections import Counter\n",
      "Counter(info.state_features).most_common(10)"
     ],
     "language": "python",
     "metadata": {},
     "outputs": []
    },
    {
     "cell_type": "code",
     "collapsed": false,
     "input": [
      "trainer = pycrfsuite.Trainer()\n",
      "for x, y in zip(data['X'], data['y']):\n",
      "    trainer.append(x, y)\n",
      "\n",
      "trainer.set_params({\n",
      "    'c1': 0.1,   # coefficient for L1 penalty\n",
      "    'c2': 1,  # coefficient for L2 penalty\n",
      "    'max_iterations': 500,  # stop earlier\n",
      "})\n",
      "trainer.train('model.crfsuite')"
     ],
     "language": "python",
     "metadata": {},
     "outputs": []
    },
    {
     "cell_type": "code",
     "collapsed": false,
     "input": [],
     "language": "python",
     "metadata": {},
     "outputs": []
    }
   ],
   "metadata": {}
  }
 ]
}